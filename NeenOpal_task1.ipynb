{
 "cells": [
  {
   "cell_type": "code",
   "execution_count": 2,
   "id": "249a0c24",
   "metadata": {},
   "outputs": [],
   "source": [
    "#Required libraries\n",
    "import pandas as pd"
   ]
  },
  {
   "cell_type": "code",
   "execution_count": 3,
   "id": "a783af0b",
   "metadata": {},
   "outputs": [],
   "source": [
    "#import dataset 1\n",
    "df1 = pd.read_csv('Book1.csv')\n",
    "\n"
   ]
  },
  {
   "cell_type": "code",
   "execution_count": 4,
   "id": "2c95d392",
   "metadata": {},
   "outputs": [
    {
     "data": {
      "text/html": [
       "<div>\n",
       "<style scoped>\n",
       "    .dataframe tbody tr th:only-of-type {\n",
       "        vertical-align: middle;\n",
       "    }\n",
       "\n",
       "    .dataframe tbody tr th {\n",
       "        vertical-align: top;\n",
       "    }\n",
       "\n",
       "    .dataframe thead th {\n",
       "        text-align: right;\n",
       "    }\n",
       "</style>\n",
       "<table border=\"1\" class=\"dataframe\">\n",
       "  <thead>\n",
       "    <tr style=\"text-align: right;\">\n",
       "      <th></th>\n",
       "      <th>Order ID</th>\n",
       "      <th>Product ID</th>\n",
       "      <th>Qty</th>\n",
       "    </tr>\n",
       "  </thead>\n",
       "  <tbody>\n",
       "    <tr>\n",
       "      <th>0</th>\n",
       "      <td>CA-2014-100006</td>\n",
       "      <td>TEC-PH-10002075</td>\n",
       "      <td>3</td>\n",
       "    </tr>\n",
       "    <tr>\n",
       "      <th>1</th>\n",
       "      <td>CA-2014-100090</td>\n",
       "      <td>FUR-TA-10003715</td>\n",
       "      <td>3</td>\n",
       "    </tr>\n",
       "    <tr>\n",
       "      <th>2</th>\n",
       "      <td>CA-2014-100090</td>\n",
       "      <td>OFF-BI-10001597</td>\n",
       "      <td>6</td>\n",
       "    </tr>\n",
       "    <tr>\n",
       "      <th>3</th>\n",
       "      <td>CA-2014-100293</td>\n",
       "      <td>OFF-PA-10000176</td>\n",
       "      <td>6</td>\n",
       "    </tr>\n",
       "    <tr>\n",
       "      <th>4</th>\n",
       "      <td>CA-2014-100328</td>\n",
       "      <td>OFF-BI-10000343</td>\n",
       "      <td>1</td>\n",
       "    </tr>\n",
       "  </tbody>\n",
       "</table>\n",
       "</div>"
      ],
      "text/plain": [
       "         Order ID       Product ID  Qty\n",
       "0  CA-2014-100006  TEC-PH-10002075    3\n",
       "1  CA-2014-100090  FUR-TA-10003715    3\n",
       "2  CA-2014-100090  OFF-BI-10001597    6\n",
       "3  CA-2014-100293  OFF-PA-10000176    6\n",
       "4  CA-2014-100328  OFF-BI-10000343    1"
      ]
     },
     "execution_count": 4,
     "metadata": {},
     "output_type": "execute_result"
    }
   ],
   "source": [
    "df1.head()   #Print few top records in dataset1"
   ]
  },
  {
   "cell_type": "code",
   "execution_count": 5,
   "id": "ce7ebb9a",
   "metadata": {
    "scrolled": true
   },
   "outputs": [],
   "source": [
    "# Import dataset 2\n",
    "df2 = pd.read_csv(\"Book2.csv\") "
   ]
  },
  {
   "cell_type": "code",
   "execution_count": 6,
   "id": "3a67b6a3",
   "metadata": {},
   "outputs": [
    {
     "data": {
      "text/html": [
       "<div>\n",
       "<style scoped>\n",
       "    .dataframe tbody tr th:only-of-type {\n",
       "        vertical-align: middle;\n",
       "    }\n",
       "\n",
       "    .dataframe tbody tr th {\n",
       "        vertical-align: top;\n",
       "    }\n",
       "\n",
       "    .dataframe thead th {\n",
       "        text-align: right;\n",
       "    }\n",
       "</style>\n",
       "<table border=\"1\" class=\"dataframe\">\n",
       "  <thead>\n",
       "    <tr style=\"text-align: right;\">\n",
       "      <th></th>\n",
       "      <th>Order ID</th>\n",
       "      <th>Product ID</th>\n",
       "      <th>Qty</th>\n",
       "    </tr>\n",
       "  </thead>\n",
       "  <tbody>\n",
       "    <tr>\n",
       "      <th>0</th>\n",
       "      <td>CA-2014-100090</td>\n",
       "      <td>FUR-TA-10003715</td>\n",
       "      <td>3</td>\n",
       "    </tr>\n",
       "    <tr>\n",
       "      <th>1</th>\n",
       "      <td>CA-2014-100090</td>\n",
       "      <td>OFF-BI-10001597</td>\n",
       "      <td>6</td>\n",
       "    </tr>\n",
       "    <tr>\n",
       "      <th>2</th>\n",
       "      <td>CA-2014-100293</td>\n",
       "      <td>OFF-PA-10000176</td>\n",
       "      <td>6</td>\n",
       "    </tr>\n",
       "    <tr>\n",
       "      <th>3</th>\n",
       "      <td>CA-2014-100328</td>\n",
       "      <td>OFF-BI-10000343</td>\n",
       "      <td>1</td>\n",
       "    </tr>\n",
       "    <tr>\n",
       "      <th>4</th>\n",
       "      <td>CA-2014-100363</td>\n",
       "      <td>OFF-FA-10000611</td>\n",
       "      <td>2</td>\n",
       "    </tr>\n",
       "  </tbody>\n",
       "</table>\n",
       "</div>"
      ],
      "text/plain": [
       "         Order ID       Product ID  Qty\n",
       "0  CA-2014-100090  FUR-TA-10003715    3\n",
       "1  CA-2014-100090  OFF-BI-10001597    6\n",
       "2  CA-2014-100293  OFF-PA-10000176    6\n",
       "3  CA-2014-100328  OFF-BI-10000343    1\n",
       "4  CA-2014-100363  OFF-FA-10000611    2"
      ]
     },
     "execution_count": 6,
     "metadata": {},
     "output_type": "execute_result"
    }
   ],
   "source": [
    "df2.head()  # Print few top records in dataset 2"
   ]
  },
  {
   "cell_type": "code",
   "execution_count": 7,
   "id": "5f9f0fa9",
   "metadata": {},
   "outputs": [
    {
     "data": {
      "text/plain": [
       "0    CA-2014-100006TEC-PH-10002075\n",
       "1    CA-2014-100090FUR-TA-10003715\n",
       "2    CA-2014-100090OFF-BI-10001597\n",
       "3    CA-2014-100293OFF-PA-10000176\n",
       "4    CA-2014-100328OFF-BI-10000343\n",
       "Name: Unique_data1, dtype: object"
      ]
     },
     "execution_count": 7,
     "metadata": {},
     "output_type": "execute_result"
    }
   ],
   "source": [
    "df1['Unique_data1'] = df1['Order ID']+df1['Product ID']   \n",
    "df1['Unique_data1'].head()"
   ]
  },
  {
   "cell_type": "code",
   "execution_count": 8,
   "id": "24e6d15c",
   "metadata": {
    "scrolled": true
   },
   "outputs": [
    {
     "data": {
      "text/plain": [
       "0    CA-2014-100090FUR-TA-10003715\n",
       "1    CA-2014-100090OFF-BI-10001597\n",
       "2    CA-2014-100293OFF-PA-10000176\n",
       "3    CA-2014-100328OFF-BI-10000343\n",
       "4    CA-2014-100363OFF-FA-10000611\n",
       "Name: Unique_data2, dtype: object"
      ]
     },
     "execution_count": 8,
     "metadata": {},
     "output_type": "execute_result"
    }
   ],
   "source": [
    "df2['Unique_data2'] = df2['Order ID']+df2['Product ID']\n",
    "df2['Unique_data2'].head()\n"
   ]
  },
  {
   "cell_type": "code",
   "execution_count": 9,
   "id": "c7d05617",
   "metadata": {},
   "outputs": [
    {
     "data": {
      "text/html": [
       "<div>\n",
       "<style scoped>\n",
       "    .dataframe tbody tr th:only-of-type {\n",
       "        vertical-align: middle;\n",
       "    }\n",
       "\n",
       "    .dataframe tbody tr th {\n",
       "        vertical-align: top;\n",
       "    }\n",
       "\n",
       "    .dataframe thead th {\n",
       "        text-align: right;\n",
       "    }\n",
       "</style>\n",
       "<table border=\"1\" class=\"dataframe\">\n",
       "  <thead>\n",
       "    <tr style=\"text-align: right;\">\n",
       "      <th></th>\n",
       "      <th>Order ID_x</th>\n",
       "      <th>Product ID_x</th>\n",
       "      <th>Qty_x</th>\n",
       "      <th>Unique_data1</th>\n",
       "      <th>Order ID_y</th>\n",
       "      <th>Product ID_y</th>\n",
       "      <th>Qty_y</th>\n",
       "      <th>Unique_data2</th>\n",
       "    </tr>\n",
       "  </thead>\n",
       "  <tbody>\n",
       "    <tr>\n",
       "      <th>0</th>\n",
       "      <td>CA-2014-100006</td>\n",
       "      <td>TEC-PH-10002075</td>\n",
       "      <td>3.0</td>\n",
       "      <td>CA-2014-100006TEC-PH-10002075</td>\n",
       "      <td>NaN</td>\n",
       "      <td>NaN</td>\n",
       "      <td>NaN</td>\n",
       "      <td>NaN</td>\n",
       "    </tr>\n",
       "    <tr>\n",
       "      <th>1</th>\n",
       "      <td>CA-2014-100090</td>\n",
       "      <td>FUR-TA-10003715</td>\n",
       "      <td>3.0</td>\n",
       "      <td>CA-2014-100090FUR-TA-10003715</td>\n",
       "      <td>CA-2014-100090</td>\n",
       "      <td>FUR-TA-10003715</td>\n",
       "      <td>3.0</td>\n",
       "      <td>CA-2014-100090FUR-TA-10003715</td>\n",
       "    </tr>\n",
       "    <tr>\n",
       "      <th>2</th>\n",
       "      <td>CA-2014-100090</td>\n",
       "      <td>OFF-BI-10001597</td>\n",
       "      <td>6.0</td>\n",
       "      <td>CA-2014-100090OFF-BI-10001597</td>\n",
       "      <td>CA-2014-100090</td>\n",
       "      <td>OFF-BI-10001597</td>\n",
       "      <td>6.0</td>\n",
       "      <td>CA-2014-100090OFF-BI-10001597</td>\n",
       "    </tr>\n",
       "    <tr>\n",
       "      <th>3</th>\n",
       "      <td>CA-2014-100293</td>\n",
       "      <td>OFF-PA-10000176</td>\n",
       "      <td>6.0</td>\n",
       "      <td>CA-2014-100293OFF-PA-10000176</td>\n",
       "      <td>CA-2014-100293</td>\n",
       "      <td>OFF-PA-10000176</td>\n",
       "      <td>6.0</td>\n",
       "      <td>CA-2014-100293OFF-PA-10000176</td>\n",
       "    </tr>\n",
       "    <tr>\n",
       "      <th>4</th>\n",
       "      <td>CA-2014-100328</td>\n",
       "      <td>OFF-BI-10000343</td>\n",
       "      <td>1.0</td>\n",
       "      <td>CA-2014-100328OFF-BI-10000343</td>\n",
       "      <td>CA-2014-100328</td>\n",
       "      <td>OFF-BI-10000343</td>\n",
       "      <td>1.0</td>\n",
       "      <td>CA-2014-100328OFF-BI-10000343</td>\n",
       "    </tr>\n",
       "  </tbody>\n",
       "</table>\n",
       "</div>"
      ],
      "text/plain": [
       "       Order ID_x     Product ID_x  Qty_x                   Unique_data1  \\\n",
       "0  CA-2014-100006  TEC-PH-10002075    3.0  CA-2014-100006TEC-PH-10002075   \n",
       "1  CA-2014-100090  FUR-TA-10003715    3.0  CA-2014-100090FUR-TA-10003715   \n",
       "2  CA-2014-100090  OFF-BI-10001597    6.0  CA-2014-100090OFF-BI-10001597   \n",
       "3  CA-2014-100293  OFF-PA-10000176    6.0  CA-2014-100293OFF-PA-10000176   \n",
       "4  CA-2014-100328  OFF-BI-10000343    1.0  CA-2014-100328OFF-BI-10000343   \n",
       "\n",
       "       Order ID_y     Product ID_y  Qty_y                   Unique_data2  \n",
       "0             NaN              NaN    NaN                            NaN  \n",
       "1  CA-2014-100090  FUR-TA-10003715    3.0  CA-2014-100090FUR-TA-10003715  \n",
       "2  CA-2014-100090  OFF-BI-10001597    6.0  CA-2014-100090OFF-BI-10001597  \n",
       "3  CA-2014-100293  OFF-PA-10000176    6.0  CA-2014-100293OFF-PA-10000176  \n",
       "4  CA-2014-100328  OFF-BI-10000343    1.0  CA-2014-100328OFF-BI-10000343  "
      ]
     },
     "execution_count": 9,
     "metadata": {},
     "output_type": "execute_result"
    }
   ],
   "source": [
    "#Combining datasets\n",
    "merge_data = df1.merge(df2, how='outer', left_on=['Unique_data1'], right_on=['Unique_data2'])\n",
    "merge_data.head()"
   ]
  },
  {
   "cell_type": "markdown",
   "id": "8c572032",
   "metadata": {},
   "source": [
    "# 1) How to identify the Records (Order ID + Product ID combination) present in data1 but missing in data2 (Specify the number of records missing in your answer)\n"
   ]
  },
  {
   "cell_type": "code",
   "execution_count": 10,
   "id": "8fc0b05c",
   "metadata": {},
   "outputs": [
    {
     "name": "stdout",
     "output_type": "stream",
     "text": [
      "507\n"
     ]
    }
   ],
   "source": [
    "#present in data1 but missing in data2 \n",
    "Question_1 = merge_data[merge_data['Unique_data2'].isna()]\n",
    "print(len(Question_1))\n"
   ]
  },
  {
   "cell_type": "markdown",
   "id": "980048e1",
   "metadata": {},
   "source": [
    "# How to identify the Records (Order ID + Product ID combination) missing in data1 but present in data2 (Specify the number of records missing in your answer)\n"
   ]
  },
  {
   "cell_type": "code",
   "execution_count": 11,
   "id": "335af8df",
   "metadata": {},
   "outputs": [
    {
     "name": "stdout",
     "output_type": "stream",
     "text": [
      "508\n"
     ]
    }
   ],
   "source": [
    "# missing in data1 but present in data2\n",
    "Question_2 = merge_data[merge_data['Unique_data1'].isna()]   \n",
    "print(len(Question_2))\n",
    "\n"
   ]
  },
  {
   "cell_type": "markdown",
   "id": "d911ad46",
   "metadata": {},
   "source": [
    "# Find the Sum of the total Qty of Records missing in data1 but present in data2\n"
   ]
  },
  {
   "cell_type": "code",
   "execution_count": 23,
   "id": "c3016a80",
   "metadata": {},
   "outputs": [
    {
     "data": {
      "text/plain": [
       "1956.0"
      ]
     },
     "execution_count": 23,
     "metadata": {},
     "output_type": "execute_result"
    }
   ],
   "source": [
    "Question_2[\"Qty_y\"].sum()\n",
    "\n"
   ]
  },
  {
   "cell_type": "markdown",
   "id": "98b2cded",
   "metadata": {},
   "source": [
    "# Find the total number of unique records (Order ID + Product ID combination) present in the combined dataset of data1 and data2\n"
   ]
  },
  {
   "cell_type": "code",
   "execution_count": 45,
   "id": "ba4a655a",
   "metadata": {},
   "outputs": [
    {
     "data": {
      "text/plain": [
       "9986"
      ]
     },
     "execution_count": 45,
     "metadata": {},
     "output_type": "execute_result"
    }
   ],
   "source": [
    "merge_data.shape[0]\n"
   ]
  },
  {
   "cell_type": "code",
   "execution_count": null,
   "id": "843d56d3",
   "metadata": {},
   "outputs": [],
   "source": []
  }
 ],
 "metadata": {
  "kernelspec": {
   "display_name": "Python 3",
   "language": "python",
   "name": "python3"
  },
  "language_info": {
   "codemirror_mode": {
    "name": "ipython",
    "version": 3
   },
   "file_extension": ".py",
   "mimetype": "text/x-python",
   "name": "python",
   "nbconvert_exporter": "python",
   "pygments_lexer": "ipython3",
   "version": "3.8.8"
  }
 },
 "nbformat": 4,
 "nbformat_minor": 5
}
